{
 "cells": [
  {
   "cell_type": "code",
   "execution_count": null,
   "metadata": {},
   "outputs": [],
   "source": [
    "\"\"\"\n",
    "Matt Polanco\n",
    "Class: CS 566\n",
    "Date: 2/1/23\n",
    "Assignment 2\n",
    "A program that uses the divide & conquer algorithm to calculate debt repayment \n",
    "\"\"\""
   ]
  },
  {
   "cell_type": "code",
   "execution_count": 58,
   "metadata": {},
   "outputs": [],
   "source": [
    "def division(an_int1):  # enables divide-and-conquer\n",
    "    # INTENT: split debt equally into smaller, more managable payments\n",
    "    split = an_int1/2  # definition\n",
    "    # PRECONDITION: an_int1 > 0\n",
    "    # RETURNS an_int1 divided by 2\n",
    "    return split"
   ]
  },
  {
   "cell_type": "code",
   "execution_count": 64,
   "metadata": {},
   "outputs": [],
   "source": [
    "def debt_calculator(monthly_income, total_debt, month_counter = 1):\n",
    "    '''\n",
    "    INTENT: Find the number of months and monthly payment required to pay off a debt within budget contraints.\n",
    "    EXAMPLE: debt_calculator(monthly_income = 5000, total_debt = 18000) = $562.50 for 32 months\n",
    "    '''\n",
    "    '''\n",
    "    PRECONDITION 1 (Positive Num): an_int1 and an_int2 are positive numbers greater than 0\n",
    "    \n",
    "    RETURNS monthly_payment, num_months\n",
    "    POSTCONDITION 1 (Budget): monthly_payment is less than or equal to 20% of monthly_income\n",
    "    POSTCONDITION 2 (Payment): DebtSplit: total_debt = monthly_payment \n",
    "                              i.e. eventually debt will be divided to a point where it becomes your monthly payment\n",
    "    '''\n",
    "    DTI = 0.20 # definition: debt-to-income ratio\n",
    "\n",
    "    # OUTCOME 1 = a (Solvabale Immediately?): \n",
    "    # EITHER postcondition holds & this returned OR total_debt/monthly_income > 20%\n",
    "    if total_debt/monthly_income <= DTI:\n",
    "        # OUTCOME 3 = c1 (Postcondition)\n",
    "        monthly_payment = total_debt\n",
    "        num_months = month_counter\n",
    "        return monthly_payment, num_months\n",
    "    # OUTCOME 2 = b1 (Split): DebtSplit: division(total_debt) = monthly_payment\n",
    "    else: \n",
    "        return debt_calculator(monthly_income, division(total_debt), month_counter*2) # O3 is achieved recursively"
   ]
  },
  {
   "cell_type": "code",
   "execution_count": 74,
   "metadata": {},
   "outputs": [
    {
     "name": "stdout",
     "output_type": "stream",
     "text": [
      "debt_calculator(5000, 18000) = (562.5, 32)\n",
      "debt_calculator(5000, 18000) = (0.19073486328125, 131072)\n",
      "debt_calculator(5000, 18000) = (1, 1)\n"
     ]
    }
   ],
   "source": [
    "# TEST CASES\n",
    "print('debt_calculator(5000, 18000) =', debt_calculator(5000, 18000)) # $562.50 for 32 months\n",
    "print('debt_calculator(5000, 18000) =', debt_calculator(1, 25000)) # worst case: debt_calc(1, n) where n is any large positive number\n",
    "print('debt_calculator(5000, 18000) =', debt_calculator(5, 1)) # best case: debt_calc(n, 1) where n is any large positive number"
   ]
  }
 ],
 "metadata": {
  "kernelspec": {
   "display_name": "Python 3",
   "language": "python",
   "name": "python3"
  },
  "language_info": {
   "codemirror_mode": {
    "name": "ipython",
    "version": 3
   },
   "file_extension": ".py",
   "mimetype": "text/x-python",
   "name": "python",
   "nbconvert_exporter": "python",
   "pygments_lexer": "ipython3",
   "version": "3.7.6"
  }
 },
 "nbformat": 4,
 "nbformat_minor": 4
}
